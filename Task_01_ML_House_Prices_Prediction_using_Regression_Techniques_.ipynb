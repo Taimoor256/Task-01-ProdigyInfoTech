{
  "nbformat": 4,
  "nbformat_minor": 0,
  "metadata": {
    "colab": {
      "provenance": [],
      "gpuType": "L4"
    },
    "kernelspec": {
      "name": "python3",
      "display_name": "Python 3"
    },
    "language_info": {
      "name": "python"
    },
    "accelerator": "GPU"
  },
  "cells": [
    {
      "cell_type": "code",
      "source": [
        "from google.colab import drive\n",
        "drive.mount('/content/drive')\n"
      ],
      "metadata": {
        "colab": {
          "base_uri": "https://localhost:8080/"
        },
        "id": "ZNt7YLCyMxnb",
        "outputId": "0c8d0344-bf63-4632-c6fb-bee15ba99190"
      },
      "execution_count": 2,
      "outputs": [
        {
          "output_type": "stream",
          "name": "stdout",
          "text": [
            "Mounted at /content/drive\n"
          ]
        }
      ]
    },
    {
      "cell_type": "code",
      "execution_count": 5,
      "metadata": {
        "colab": {
          "base_uri": "https://localhost:8080/"
        },
        "id": "FTI_SaW5MOqZ",
        "outputId": "95e20bf1-888a-4504-ed72-bda23c70d9cc"
      },
      "outputs": [
        {
          "output_type": "stream",
          "name": "stdout",
          "text": [
            "Shape of the dataframe: (1460, 81)\n",
            "First 10 rows of the dataframe:\n",
            "        Id  MSSubClass MSZoning  LotFrontage  LotArea Street Alley LotShape  \\\n",
            "0        1          60       RL         65.0     8450   Pave   NaN      Reg   \n",
            "1        2          20       RL         80.0     9600   Pave   NaN      Reg   \n",
            "2        3          60       RL         68.0    11250   Pave   NaN      IR1   \n",
            "3        4          70       RL         60.0     9550   Pave   NaN      IR1   \n",
            "4        5          60       RL         84.0    14260   Pave   NaN      IR1   \n",
            "...    ...         ...      ...          ...      ...    ...   ...      ...   \n",
            "1455  1456          60       RL         62.0     7917   Pave   NaN      Reg   \n",
            "1456  1457          20       RL         85.0    13175   Pave   NaN      Reg   \n",
            "1457  1458          70       RL         66.0     9042   Pave   NaN      Reg   \n",
            "1458  1459          20       RL         68.0     9717   Pave   NaN      Reg   \n",
            "1459  1460          20       RL         75.0     9937   Pave   NaN      Reg   \n",
            "\n",
            "     LandContour Utilities  ... PoolArea PoolQC  Fence MiscFeature MiscVal  \\\n",
            "0            Lvl    AllPub  ...        0    NaN    NaN         NaN       0   \n",
            "1            Lvl    AllPub  ...        0    NaN    NaN         NaN       0   \n",
            "2            Lvl    AllPub  ...        0    NaN    NaN         NaN       0   \n",
            "3            Lvl    AllPub  ...        0    NaN    NaN         NaN       0   \n",
            "4            Lvl    AllPub  ...        0    NaN    NaN         NaN       0   \n",
            "...          ...       ...  ...      ...    ...    ...         ...     ...   \n",
            "1455         Lvl    AllPub  ...        0    NaN    NaN         NaN       0   \n",
            "1456         Lvl    AllPub  ...        0    NaN  MnPrv         NaN       0   \n",
            "1457         Lvl    AllPub  ...        0    NaN  GdPrv        Shed    2500   \n",
            "1458         Lvl    AllPub  ...        0    NaN    NaN         NaN       0   \n",
            "1459         Lvl    AllPub  ...        0    NaN    NaN         NaN       0   \n",
            "\n",
            "     MoSold YrSold  SaleType  SaleCondition  SalePrice  \n",
            "0         2   2008        WD         Normal     208500  \n",
            "1         5   2007        WD         Normal     181500  \n",
            "2         9   2008        WD         Normal     223500  \n",
            "3         2   2006        WD        Abnorml     140000  \n",
            "4        12   2008        WD         Normal     250000  \n",
            "...     ...    ...       ...            ...        ...  \n",
            "1455      8   2007        WD         Normal     175000  \n",
            "1456      2   2010        WD         Normal     210000  \n",
            "1457      5   2010        WD         Normal     266500  \n",
            "1458      4   2010        WD         Normal     142125  \n",
            "1459      6   2008        WD         Normal     147500  \n",
            "\n",
            "[1460 rows x 81 columns]\n",
            "Random sample of 1461 rows:\n",
            "        Id  MSSubClass MSZoning  LotFrontage  LotArea Street Alley LotShape  \\\n",
            "676    677          70       RM         60.0     9600   Pave  Grvl      Reg   \n",
            "761    762          30       RM         60.0     6911   Pave   NaN      Reg   \n",
            "767    768          50       RL         75.0    12508   Pave   NaN      IR1   \n",
            "530    531          80       RL         85.0    10200   Pave   NaN      Reg   \n",
            "650    651          60       FV         65.0     8125   Pave   NaN      Reg   \n",
            "...    ...         ...      ...          ...      ...    ...   ...      ...   \n",
            "995    996          50       RL         51.0     4712   Pave   NaN      IR1   \n",
            "620    621          30       RL         45.0     8248   Pave  Grvl      Reg   \n",
            "898    899          20       RL        100.0    12919   Pave   NaN      IR1   \n",
            "571    572          20       RL         60.0     7332   Pave   NaN      Reg   \n",
            "1344  1345          60       RL         85.0    11103   Pave   NaN      IR1   \n",
            "\n",
            "     LandContour Utilities  ... PoolArea PoolQC  Fence MiscFeature MiscVal  \\\n",
            "676          Lvl    AllPub  ...        0    NaN    NaN         NaN       0   \n",
            "761          Lvl    AllPub  ...        0    NaN    NaN         NaN       0   \n",
            "767          Lvl    AllPub  ...        0    NaN    NaN        Shed    1300   \n",
            "530          Lvl    AllPub  ...        0    NaN    NaN         NaN       0   \n",
            "650          Lvl    AllPub  ...        0    NaN    NaN         NaN       0   \n",
            "...          ...       ...  ...      ...    ...    ...         ...     ...   \n",
            "995          Lvl    AllPub  ...        0    NaN  MnPrv         NaN       0   \n",
            "620          Lvl    AllPub  ...        0    NaN    NaN         NaN       0   \n",
            "898          Lvl    AllPub  ...        0    NaN    NaN         NaN       0   \n",
            "571          Lvl    AllPub  ...        0    NaN    NaN         NaN       0   \n",
            "1344         Lvl    AllPub  ...        0    NaN    NaN         NaN       0   \n",
            "\n",
            "     MoSold YrSold  SaleType  SaleCondition  SalePrice  \n",
            "676       5   2006        WD         Normal      87000  \n",
            "761      10   2009        WD         Normal     100000  \n",
            "767       7   2008        WD         Normal     160000  \n",
            "530       8   2008        WD        Abnorml     175000  \n",
            "650       5   2008        WD         Normal     205950  \n",
            "...     ...    ...       ...            ...        ...  \n",
            "995       8   2006        WD        Abnorml     121600  \n",
            "620       9   2008        WD         Normal      67000  \n",
            "898       3   2010       New        Partial     611657  \n",
            "571      10   2006        WD        Abnorml     120000  \n",
            "1344      7   2007       New        Partial     155835  \n",
            "\n",
            "[1460 rows x 81 columns]\n",
            "First 1461 rows of specific columns:\n",
            "      GrLivArea  BedroomAbvGr  FullBath  HalfBath  SalePrice\n",
            "0          1710             3         2         1     208500\n",
            "1          1262             3         2         0     181500\n",
            "2          1786             3         2         1     223500\n",
            "3          1717             3         1         0     140000\n",
            "4          2198             4         2         1     250000\n",
            "...         ...           ...       ...       ...        ...\n",
            "1455       1647             3         2         1     175000\n",
            "1456       2073             3         2         0     210000\n",
            "1457       2340             4         2         0     266500\n",
            "1458       1078             2         1         0     142125\n",
            "1459       1256             3         1         1     147500\n",
            "\n",
            "[1460 rows x 5 columns]\n"
          ]
        }
      ],
      "source": [
        "import pandas as pd\n",
        "\n",
        "# Load the training data\n",
        "train_df = pd.read_csv('/content/drive/MyDrive/house-prices-advanced-regression-techniques/train.csv')\n",
        "\n",
        "# Display the shape of the dataframe\n",
        "print(\"Shape of the dataframe:\", train_df.shape)\n",
        "\n",
        "# Display the first 10 rows of the dataframe\n",
        "print(\"First 10 rows of the dataframe:\")\n",
        "print(train_df.head(1461))\n",
        "\n",
        "# Optionally, to display a random sample of 10 rows\n",
        "print(\"Random sample of 1461 rows:\")\n",
        "print(train_df.sample(1460))\n",
        "\n",
        "# Optionally, display specific columns\n",
        "print(\"First 1461 rows of specific columns:\")\n",
        "print(train_df[['GrLivArea', 'BedroomAbvGr', 'FullBath', 'HalfBath', 'SalePrice']].head(1461))\n",
        "\n"
      ]
    },
    {
      "cell_type": "code",
      "source": [
        "# Select relevant columns\n",
        "columns = ['GrLivArea', 'BedroomAbvGr', 'FullBath', 'HalfBath', 'SalePrice']\n",
        "df = train_df[columns]\n",
        "\n",
        "# Check for missing values\n",
        "missing_values = df.isnull().sum()\n",
        "\n",
        "missing_values\n"
      ],
      "metadata": {
        "colab": {
          "base_uri": "https://localhost:8080/"
        },
        "id": "nx-1116GOB8j",
        "outputId": "d513dfef-fc87-426e-d51d-7f1d24231e41"
      },
      "execution_count": 6,
      "outputs": [
        {
          "output_type": "execute_result",
          "data": {
            "text/plain": [
              "GrLivArea       0\n",
              "BedroomAbvGr    0\n",
              "FullBath        0\n",
              "HalfBath        0\n",
              "SalePrice       0\n",
              "dtype: int64"
            ]
          },
          "metadata": {},
          "execution_count": 6
        }
      ]
    },
    {
      "cell_type": "code",
      "source": [
        "from sklearn.model_selection import train_test_split\n",
        "from sklearn.linear_model import LinearRegression\n",
        "from sklearn.metrics import mean_absolute_error\n",
        "\n",
        "# Split the data into training and validation sets\n",
        "X = df[['GrLivArea', 'BedroomAbvGr', 'FullBath', 'HalfBath']]\n",
        "y = df['SalePrice']\n",
        "X_train, X_val, y_train, y_val = train_test_split(X, y, test_size=0.2, random_state=42)\n",
        "\n",
        "# Train the linear regression model\n",
        "model = LinearRegression()\n",
        "model.fit(X_train, y_train)\n",
        "\n",
        "# Predict on the validation set\n",
        "y_pred = model.predict(X_val)\n",
        "\n",
        "# Evaluate the model\n",
        "mae = mean_absolute_error(y_val, y_pred)\n",
        "\n",
        "mae\n"
      ],
      "metadata": {
        "colab": {
          "base_uri": "https://localhost:8080/"
        },
        "id": "yw7gIn9-OVpU",
        "outputId": "0a1d5b91-7cf1-4d1f-9b3b-956494092990"
      },
      "execution_count": 7,
      "outputs": [
        {
          "output_type": "execute_result",
          "data": {
            "text/plain": [
              "36018.563138363446"
            ]
          },
          "metadata": {},
          "execution_count": 7
        }
      ]
    },
    {
      "cell_type": "code",
      "source": [
        "import pandas as pd\n",
        "import matplotlib.pyplot as plt\n",
        "import seaborn as sns\n",
        "from sklearn.model_selection import train_test_split\n",
        "from sklearn.linear_model import LinearRegression\n",
        "\n",
        "# Load the training data\n",
        "train_df = pd.read_csv('/content/drive/MyDrive/house-prices-advanced-regression-techniques/train.csv')\n",
        "\n",
        "# Select relevant columns for training\n",
        "columns = ['GrLivArea', 'BedroomAbvGr', 'FullBath', 'HalfBath', 'SalePrice']\n",
        "df = train_df[columns]\n",
        "\n",
        "# Split the data into training and validation sets\n",
        "X = df[['GrLivArea', 'BedroomAbvGr', 'FullBath', 'HalfBath']]\n",
        "y = df['SalePrice']\n",
        "X_train, X_val, y_train, y_val = train_test_split(X, y, test_size=0.2, random_state=42)\n",
        "\n",
        "# Train the linear regression model\n",
        "model = LinearRegression()\n",
        "model.fit(X_train, y_train)\n",
        "\n",
        "# Load the test data\n",
        "test_df = pd.read_csv('/content/drive/MyDrive/house-prices-advanced-regression-techniques/test.csv')\n",
        "\n",
        "# Select relevant columns for prediction\n",
        "X_test = test_df[['GrLivArea', 'BedroomAbvGr', 'FullBath', 'HalfBath']]\n",
        "\n",
        "# Make predictions\n",
        "test_pred = model.predict(X_test)\n",
        "\n",
        "# Prepare the submission file\n",
        "submission = pd.DataFrame({\n",
        "    'Id': test_df['Id'],\n",
        "    'SalePrice': test_pred\n",
        "})\n",
        "\n",
        "# Save the submission file\n",
        "submission.to_csv('/content/drive/MyDrive/house-prices-advanced-regression-techniques/sample_submission.csv', index=False)\n",
        "\n",
        "# Plot the distribution of predicted house prices\n",
        "plt.figure(figsize=(10, 6))\n",
        "sns.histplot(test_pred, kde=True)\n",
        "plt.title('Distribution of Predicted House Prices')\n",
        "plt.xlabel('SalePrice')\n",
        "plt.ylabel('Frequency')\n",
        "plt.show()\n",
        "\n",
        "# You cannot plot predicted vs. actual prices because the test set does not contain actual prices.\n",
        "# If you want to evaluate your model's performance, you should use the validation set (X_val, y_val) instead."
      ],
      "metadata": {
        "colab": {
          "base_uri": "https://localhost:8080/",
          "height": 564
        },
        "id": "yPLT8XJ5OcWx",
        "outputId": "c63dca93-1dbb-481b-f431-99de555c177d"
      },
      "execution_count": 9,
      "outputs": [
        {
          "output_type": "display_data",
          "data": {
            "text/plain": [
              "<Figure size 1000x600 with 1 Axes>"
            ],
            "image/png": "[encoded data removed]"
          },
          "metadata": {}
        }
      ]
    },
    {
      "cell_type": "code",
      "source": [
        "import pandas as pd\n",
        "from sklearn.linear_model import LinearRegression\n",
        "\n",
        "# Load the test data\n",
        "test_df = pd.read_csv('/content/drive/MyDrive/house-prices-advanced-regression-techniques/test.csv')\n",
        "\n",
        "# Select relevant columns for prediction\n",
        "X_test = test_df[['GrLivArea', 'BedroomAbvGr', 'FullBath', 'HalfBath']]\n",
        "\n",
        "# Assuming you have trained your model already\n",
        "model = LinearRegression()\n",
        "model.fit(X_train, y_train)  # Ensure X_train and y_train are defined as shown earlier\n",
        "\n",
        "# Make predictions\n",
        "test_pred = model.predict(X_test)\n",
        "\n",
        "# Prepare the submission file\n",
        "submission = pd.DataFrame({\n",
        "    'Id': test_df['Id'],\n",
        "    'SalePrice': test_pred\n",
        "})\n",
        "\n",
        "# Save the submission file\n",
        "submission.to_csv('/content/drive/MyDrive/house-prices-advanced-regression-techniques/sample_submission.csv', index=False)\n",
        "\n",
        "# Display the saved submission file\n",
        "saved_submission = pd.read_csv('/content/drive/MyDrive/house-prices-advanced-regression-techniques/sample_submission.csv')\n",
        "print(saved_submission.head())"
      ],
      "metadata": {
        "colab": {
          "base_uri": "https://localhost:8080/"
        },
        "id": "vSvw3D4AWO8y",
        "outputId": "577a9e00-e238-4598-94b5-b4b5575bff48"
      },
      "execution_count": 16,
      "outputs": [
        {
          "output_type": "stream",
          "name": "stdout",
          "text": [
            "<function read_csv at 0x78776ea94820>\n",
            "     Id      SalePrice\n",
            "0  1461  121423.030985\n",
            "1  1462  143380.870622\n",
            "2  1463  204748.668874\n",
            "3  1464  202205.354725\n",
            "4  1465  191336.364775\n"
          ]
        }
      ]
    },
    {
      "cell_type": "code",
      "source": [
        "import pandas as pd\n",
        "from sklearn.linear_model import LinearRegression\n",
        "from sklearn.model_selection import train_test_split\n",
        "\n",
        "# Load the training data\n",
        "train_df = pd.read_csv('/content/drive/MyDrive/house-prices-advanced-regression-techniques/train.csv')\n",
        "\n",
        "# Select relevant columns\n",
        "columns = ['GrLivArea', 'BedroomAbvGr', 'FullBath', 'HalfBath', 'SalePrice']\n",
        "df = train_df[columns]\n",
        "\n",
        "# Split the data into training and validation sets\n",
        "X = df[['GrLivArea', 'BedroomAbvGr', 'FullBath', 'HalfBath']]\n",
        "y = df['SalePrice']\n",
        "X_train, X_val, y_train, y_val = train_test_split(X, y, test_size=0.2, random_state=42)\n",
        "\n",
        "# Train the linear regression model\n",
        "model = LinearRegression()\n",
        "model.fit(X_train, y_train)\n",
        "\n",
        "# Load the test data\n",
        "test_df = pd.read_csv('/content/drive/MyDrive/house-prices-advanced-regression-techniques/test.csv')\n",
        "\n",
        "# Select relevant columns for prediction\n",
        "X_test = test_df[['GrLivArea', 'BedroomAbvGr', 'FullBath', 'HalfBath']]\n",
        "\n",
        "# Make predictions\n",
        "test_pred = model.predict(X_test)\n",
        "\n",
        "# Prepare the submission file\n",
        "submission = pd.DataFrame({\n",
        "    'Id': test_df['Id'],\n",
        "    'SalePrice': test_pred\n",
        "})\n",
        "\n",
        "# Save the submission file\n",
        "submission_file_path = '/content/drive/MyDrive/house-prices-advanced-regression-techniques/sample_submission.csv'\n",
        "submission.to_csv(submission_file_path, index=False)\n",
        "\n",
        "# Display the saved submission file\n",
        "saved_submission = pd.read_csv('/content/drive/MyDrive/house-prices-advanced-regression-techniques/sample_submission.csv')\n",
        "\n",
        "# Print the shape to confirm the number of rows and columns\n",
        "print(\"Shape of the submission file:\", saved_submission.shape)\n",
        "\n",
        "# Display the first few rows to verify\n",
        "print(saved_submission.head(1444))\n"
      ],
      "metadata": {
        "colab": {
          "base_uri": "https://localhost:8080/"
        },
        "id": "41b4LfFvY82g",
        "outputId": "4c5e16af-8f51-42ae-c6d4-b572d14b65d0"
      },
      "execution_count": 17,
      "outputs": [
        {
          "output_type": "stream",
          "name": "stdout",
          "text": [
            "Shape of the submission file: (1459, 2)\n",
            "        Id      SalePrice\n",
            "0     1461  121423.030985\n",
            "1     1462  143380.870622\n",
            "2     1463  204748.668874\n",
            "3     1464  202205.354725\n",
            "4     1465  191336.364775\n",
            "...    ...            ...\n",
            "1439  2900  157511.070484\n",
            "1440  2901  198129.385699\n",
            "1441  2902  203849.470385\n",
            "1442  2903  233810.494934\n",
            "1443  2904  221399.121890\n",
            "\n",
            "[1444 rows x 2 columns]\n"
          ]
        }
      ]
    }
  ]
}